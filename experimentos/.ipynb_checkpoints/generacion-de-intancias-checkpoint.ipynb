{
 "cells": [
  {
   "cell_type": "code",
   "execution_count": 1,
   "id": "a717b2cd",
   "metadata": {},
   "outputs": [],
   "source": [
    "import random, math\n",
    "import pandas as pd\n",
    "import tsplib95 as tl\n",
    "import numpy as np"
   ]
  },
  {
   "cell_type": "code",
   "execution_count": 2,
   "id": "af3715b9",
   "metadata": {},
   "outputs": [],
   "source": [
    "def save_instance(instance_name,instances):\n",
    "    with open(F\"output/{instance_name}.txt\", \"w\") as f:\n",
    "        for values in instances:\n",
    "            print(values[0],values[1],values[2],file=f)       \n",
    "\n",
    "def save_index(dataset, instances):\n",
    "    with open(F\"instancias/{dataset}/instances.txt\", \"w\") as f:\n",
    "        for instance in instances: \n",
    "            print(instance, file=f)"
   ]
  },
  {
   "cell_type": "code",
   "execution_count": 3,
   "id": "c38685c8",
   "metadata": {},
   "outputs": [
    {
     "ename": "TypeError",
     "evalue": "save_instance() takes 2 positional arguments but 3 were given",
     "output_type": "error",
     "traceback": [
      "\u001b[0;31m---------------------------------------------------------------------------\u001b[0m",
      "\u001b[0;31mTypeError\u001b[0m                                 Traceback (most recent call last)",
      "\u001b[0;32m<ipython-input-3-9b66e9a98740>\u001b[0m in \u001b[0;36m<module>\u001b[0;34m\u001b[0m\n\u001b[1;32m     10\u001b[0m         \u001b[0marchivo\u001b[0m\u001b[0;34m.\u001b[0m\u001b[0mappend\u001b[0m\u001b[0;34m(\u001b[0m\u001b[0;34m''\u001b[0m\u001b[0;34m.\u001b[0m\u001b[0mjoin\u001b[0m\u001b[0;34m(\u001b[0m\u001b[0mrandom\u001b[0m\u001b[0;34m.\u001b[0m\u001b[0mchoice\u001b[0m\u001b[0;34m(\u001b[0m\u001b[0mstring\u001b[0m\u001b[0;34m.\u001b[0m\u001b[0mascii_letters\u001b[0m \u001b[0;34m+\u001b[0m \u001b[0mstring\u001b[0m\u001b[0;34m.\u001b[0m\u001b[0mdigits\u001b[0m\u001b[0;34m)\u001b[0m \u001b[0;32mfor\u001b[0m \u001b[0m_\u001b[0m \u001b[0;32min\u001b[0m \u001b[0mrange\u001b[0m\u001b[0;34m(\u001b[0m\u001b[0mi\u001b[0m\u001b[0;34m)\u001b[0m\u001b[0;34m)\u001b[0m\u001b[0;34m)\u001b[0m\u001b[0;34m\u001b[0m\u001b[0;34m\u001b[0m\u001b[0m\n\u001b[1;32m     11\u001b[0m     \u001b[0mcontenedor\u001b[0m\u001b[0;34m.\u001b[0m\u001b[0mappend\u001b[0m\u001b[0;34m(\u001b[0m\u001b[0marchivo\u001b[0m\u001b[0;34m)\u001b[0m\u001b[0;34m\u001b[0m\u001b[0;34m\u001b[0m\u001b[0m\n\u001b[0;32m---> 12\u001b[0;31m     \u001b[0msave_instance\u001b[0m\u001b[0;34m(\u001b[0m\u001b[0;34m\"tamanio\"\u001b[0m\u001b[0;34m,\u001b[0m \u001b[0;34mF\"-{tamaño_archivo}\"\u001b[0m\u001b[0;34m,\u001b[0m \u001b[0marchivo\u001b[0m\u001b[0;34m)\u001b[0m\u001b[0;34m\u001b[0m\u001b[0;34m\u001b[0m\u001b[0m\n\u001b[0m\u001b[1;32m     13\u001b[0m     \u001b[0;31m#print(archivo)\u001b[0m\u001b[0;34m\u001b[0m\u001b[0;34m\u001b[0m\u001b[0;34m\u001b[0m\u001b[0m\n\u001b[1;32m     14\u001b[0m     \u001b[0;31m#tamaño_archivo += tamaño_archivo\u001b[0m\u001b[0;34m\u001b[0m\u001b[0;34m\u001b[0m\u001b[0;34m\u001b[0m\u001b[0m\n",
      "\u001b[0;31mTypeError\u001b[0m: save_instance() takes 2 positional arguments but 3 were given"
     ]
    }
   ],
   "source": [
    "import string\n",
    "import random\n",
    "\n",
    "cantidad_de_archivos = 10\n",
    "tamaño_archivo = 5\n",
    "contenedor = []\n",
    "for i in range(1,cantidad_de_archivos): #cantidad de archivos\n",
    "    archivo = []\n",
    "    for j in range(0,tamaño_archivo):\n",
    "        archivo.append(''.join(random.choice(string.ascii_letters + string.digits) for _ in range(i)))\n",
    "    contenedor.append(archivo)\n",
    "    save_instance(\"tamanio\"+F\"-{tamaño_archivo}\", archivo)\n",
    "    #print(archivo)\n",
    "    #tamaño_archivo += tamaño_archivo \n",
    "print(contenedor)"
   ]
  },
  {
   "cell_type": "code",
   "execution_count": 3,
   "id": "e15b3ddc",
   "metadata": {},
   "outputs": [
    {
     "ename": "NameError",
     "evalue": "name 'save_instance' is not defined",
     "output_type": "error",
     "traceback": [
      "\u001b[0;31m---------------------------------------------------------------------------\u001b[0m",
      "\u001b[0;31mNameError\u001b[0m                                 Traceback (most recent call last)",
      "\u001b[0;32m<ipython-input-3-678688efda26>\u001b[0m in \u001b[0;36m<module>\u001b[0;34m\u001b[0m\n\u001b[1;32m      6\u001b[0m         \u001b[0mrandom\u001b[0m\u001b[0;34m.\u001b[0m\u001b[0mshuffle\u001b[0m\u001b[0;34m(\u001b[0m\u001b[0mw\u001b[0m\u001b[0;34m)\u001b[0m \u001b[0;31m#reordena la lista de manera random\u001b[0m\u001b[0;34m\u001b[0m\u001b[0;34m\u001b[0m\u001b[0m\n\u001b[1;32m      7\u001b[0m         \u001b[0mrandom\u001b[0m\u001b[0;34m.\u001b[0m\u001b[0mshuffle\u001b[0m\u001b[0;34m(\u001b[0m\u001b[0mr\u001b[0m\u001b[0;34m)\u001b[0m \u001b[0;31m#reordena la lista de manera random\u001b[0m\u001b[0;34m\u001b[0m\u001b[0;34m\u001b[0m\u001b[0m\n\u001b[0;32m----> 8\u001b[0;31m         \u001b[0msave_instance\u001b[0m\u001b[0;34m(\u001b[0m\u001b[0;34m\"dinamica\"\u001b[0m\u001b[0;34m,\u001b[0m \u001b[0;34mF\"DP-{n}-{R}\"\u001b[0m\u001b[0;34m,\u001b[0m \u001b[0mw\u001b[0m\u001b[0;34m,\u001b[0m \u001b[0mr\u001b[0m\u001b[0;34m,\u001b[0m \u001b[0mR\u001b[0m\u001b[0;34m)\u001b[0m\u001b[0;34m\u001b[0m\u001b[0;34m\u001b[0m\u001b[0m\n\u001b[0m\u001b[1;32m      9\u001b[0m         \u001b[0mfilas_indice\u001b[0m\u001b[0;34m.\u001b[0m\u001b[0mappend\u001b[0m\u001b[0;34m(\u001b[0m\u001b[0;34m[\u001b[0m\u001b[0;34m\"dinamica\"\u001b[0m\u001b[0;34m,\u001b[0m \u001b[0;34mF\"DP-{n}-{R}\"\u001b[0m\u001b[0;34m,\u001b[0m \u001b[0mn\u001b[0m\u001b[0;34m,\u001b[0m \u001b[0mR\u001b[0m\u001b[0;34m,\u001b[0m \u001b[0;34mF\"instancias/dinamica/DP-{n}-{R}.txt\"\u001b[0m\u001b[0;34m]\u001b[0m\u001b[0;34m)\u001b[0m\u001b[0;34m\u001b[0m\u001b[0;34m\u001b[0m\u001b[0m\n\u001b[1;32m     10\u001b[0m \u001b[0mpd\u001b[0m\u001b[0;34m.\u001b[0m\u001b[0mDataFrame\u001b[0m\u001b[0;34m(\u001b[0m\u001b[0mfilas_indice\u001b[0m\u001b[0;34m,\u001b[0m \u001b[0mcolumns\u001b[0m\u001b[0;34m=\u001b[0m\u001b[0;34m[\u001b[0m\u001b[0;34m\"dataset\"\u001b[0m\u001b[0;34m,\u001b[0m \u001b[0;34m\"instancia\"\u001b[0m\u001b[0;34m,\u001b[0m \u001b[0;34m\"n\"\u001b[0m\u001b[0;34m,\u001b[0m \u001b[0;34m\"R\"\u001b[0m\u001b[0;34m,\u001b[0m \u001b[0;34m\"archivo\"\u001b[0m\u001b[0;34m]\u001b[0m\u001b[0;34m)\u001b[0m\u001b[0;34m.\u001b[0m\u001b[0mto_csv\u001b[0m\u001b[0;34m(\u001b[0m\u001b[0;34m\"instancias/dinamica/indice.csv\"\u001b[0m\u001b[0;34m,\u001b[0m \u001b[0mindex\u001b[0m\u001b[0;34m=\u001b[0m\u001b[0;32mFalse\u001b[0m\u001b[0;34m,\u001b[0m \u001b[0mheader\u001b[0m\u001b[0;34m=\u001b[0m\u001b[0;32mTrue\u001b[0m\u001b[0;34m)\u001b[0m\u001b[0;34m\u001b[0m\u001b[0;34m\u001b[0m\u001b[0m\n",
      "\u001b[0;31mNameError\u001b[0m: name 'save_instance' is not defined"
     ]
    }
   ],
   "source": [
    "\n",
    "filas_indice = []\n",
    "for n in range(1000, 8000, 500):\n",
    "    for R in range(1000, 8000, 500):\n",
    "        w = [i+1 for i in range(0, n)]\n",
    "        r = [i+1 for i in range(0, n)]\n",
    "        random.shuffle(w) #reordena la lista de manera random\n",
    "        random.shuffle(r) #reordena la lista de manera random\n",
    "        \n",
    "        filas_indice.append([\"dinamica\", F\"DP-{n}-{R}\", n, R, F\"output/-{n}-{R}.txt\"])\n",
    "pd.DataFrame(filas_indice, columns=[\"dataset\", \"instancia\", \"n\", \"R\", \"archivo\"]).to_csv(\"instancias/dinamica/indice.csv\", index=False, header=True)"
   ]
  },
  {
   "cell_type": "code",
   "execution_count": null,
   "id": "03f4bd93",
   "metadata": {},
   "outputs": [],
   "source": []
  }
 ],
 "metadata": {
  "kernelspec": {
   "display_name": "Python 3",
   "language": "python",
   "name": "python3"
  },
  "language_info": {
   "codemirror_mode": {
    "name": "ipython",
    "version": 3
   },
   "file_extension": ".py",
   "mimetype": "text/x-python",
   "name": "python",
   "nbconvert_exporter": "python",
   "pygments_lexer": "ipython3",
   "version": "3.8.8"
  }
 },
 "nbformat": 4,
 "nbformat_minor": 5
}
