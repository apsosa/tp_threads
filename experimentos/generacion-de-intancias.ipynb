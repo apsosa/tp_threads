{
 "cells": [
  {
   "cell_type": "code",
   "execution_count": 2,
   "id": "a717b2cd",
   "metadata": {},
   "outputs": [],
   "source": [
    "import random, math\n",
    "import pandas as pd\n",
    "import numpy as np\n",
    "import string"
   ]
  },
  {
   "cell_type": "code",
   "execution_count": 2,
   "id": "430679dc",
   "metadata": {},
   "outputs": [
    {
     "name": "stdout",
     "output_type": "stream",
     "text": [
      "removed './build/ContarPalabras'\n",
      "removed 'output/salida-conRepetidos-10.txt.csv'\n",
      "removed 'output/salida-conRepetidos-1280.txt.csv'\n",
      "removed 'output/salida-conRepetidos-160.txt.csv'\n",
      "removed 'output/salida-conRepetidos-20.txt.csv'\n",
      "removed 'output/salida-conRepetidos-320.txt.csv'\n",
      "removed 'output/salida-conRepetidos-40.txt.csv'\n",
      "removed 'output/salida-conRepetidos-5.txt.csv'\n",
      "removed 'output/salida-conRepetidos-640.txt.csv'\n",
      "removed 'output/salida-conRepetidos-80.txt.csv'\n",
      "removed 'output/salida-sinRepetidos-10.txt.csv'\n",
      "removed 'output/salida-sinRepetidos-1280.txt.csv'\n",
      "removed 'output/salida-sinRepetidos-160.txt.csv'\n",
      "removed 'output/salida-sinRepetidos-20.txt.csv'\n",
      "removed 'output/salida-sinRepetidos-320.txt.csv'\n",
      "removed 'output/salida-sinRepetidos-40.txt.csv'\n",
      "removed 'output/salida-sinRepetidos-5.txt.csv'\n",
      "removed 'output/salida-sinRepetidos-640.txt.csv'\n",
      "removed 'output/salida-sinRepetidos-80.txt.csv'\n",
      "removed 'output/salida.csv'\n",
      "g++ -std=c++11 -Wall -c src/HashMapConcurrente.cpp -o build/HashMapConcurrente.o -lpthread\n",
      "g++ -std=c++11 -Wall -c src/CargarArchivos.cpp -o build/CargarArchivos.o -lpthread\n",
      "g++ -std=c++11 -Wall -o build/ContarPalabras src/ContarPalabras.cpp build/HashMapConcurrente.o build/CargarArchivos.o -lpthread\n",
      "rm build/CargarArchivos.o build/HashMapConcurrente.o\n",
      "empty\n",
      "sinRepetidos-10.txt\n",
      "sinRepetidos-1280.txt\n",
      "sinRepetidos-160.txt\n",
      "sinRepetidos-20.txt\n",
      "sinRepetidos-320.txt\n",
      "sinRepetidos-40.txt\n",
      "sinRepetidos-5.txt\n",
      "sinRepetidos-640.txt\n",
      "sinRepetidos-80.txt\n",
      "conRepetidos-10.txt\n",
      "conRepetidos-1280.txt\n",
      "conRepetidos-160.txt\n",
      "conRepetidos-20.txt\n",
      "conRepetidos-320.txt\n",
      "conRepetidos-40.txt\n",
      "conRepetidos-5.txt\n",
      "conRepetidos-640.txt\n",
      "conRepetidos-80.txt\n",
      "empty\n"
     ]
    }
   ],
   "source": [
    "!../scripts/run.sh"
   ]
  },
  {
   "cell_type": "code",
   "execution_count": 5,
   "id": "af3715b9",
   "metadata": {},
   "outputs": [],
   "source": [
    "def save_instance(instance_name,instances):\n",
    "    with open(F\"../data/random-sin-repetidos/{instance_name}.txt\", \"w\") as f:\n",
    "        for values in instances:\n",
    "            print(values,file=f)       "
   ]
  },
  {
   "cell_type": "markdown",
   "id": "7955e692",
   "metadata": {},
   "source": [
    "# Generacion de datos"
   ]
  },
  {
   "cell_type": "markdown",
   "id": "e5b799d7",
   "metadata": {},
   "source": [
    "## Sin Repetidos"
   ]
  },
  {
   "cell_type": "code",
   "execution_count": null,
   "id": "c38685c8",
   "metadata": {},
   "outputs": [
    {
     "name": "stdout",
     "output_type": "stream",
     "text": [
      "200\n",
      "400\n",
      "800\n",
      "1600\n",
      "3200\n",
      "6400\n",
      "12800\n",
      "25600\n",
      "51200\n",
      "102400\n",
      "204800\n",
      "409600\n",
      "819200\n",
      "1638400\n",
      "3276800\n",
      "6553600\n",
      "13107200\n",
      "26214400\n"
     ]
    }
   ],
   "source": [
    "cantidad_de_archivos = 20\n",
    "tamaño_archivo = 100\n",
    "contenedor = []\n",
    "for i in range(1,cantidad_de_archivos): #cantidad de archivos\n",
    "    archivo = []\n",
    "    for j in range(0,tamaño_archivo):\n",
    "        archivo.append(''.join(random.choice(string.ascii_letters + string.digits) for _ in range(i)))\n",
    "    contenedor.append(archivo)\n",
    "    save_instance(\"sinRepetidos\"+F\"-{tamaño_archivo}\", archivo)\n",
    "    print(tamaño_archivo)\n",
    "    tamaño_archivo += tamaño_archivo \n",
    "#print(contenedor)"
   ]
  },
  {
   "cell_type": "markdown",
   "id": "ad01459f",
   "metadata": {},
   "source": [
    "## Con Repetidos"
   ]
  },
  {
   "cell_type": "code",
   "execution_count": 3,
   "id": "857d7903",
   "metadata": {},
   "outputs": [],
   "source": [
    "def save_instance(instance_name,instances):\n",
    "    with open(F\"../data/random-con-repetidos/{instance_name}.txt\", \"w\") as f:\n",
    "        for values in instances:\n",
    "            print(values,file=f)     "
   ]
  },
  {
   "cell_type": "code",
   "execution_count": 6,
   "id": "e15b3ddc",
   "metadata": {},
   "outputs": [
    {
     "name": "stdout",
     "output_type": "stream",
     "text": [
      "[ 0 11  1 15 15  1  1 14  1  0  8 13 14 18 10  9  0 17 17 17  2 14 16 14\n",
      " 14 12 15 17  2  4  9 13 10 15  9 12  3 18 18  2  7 11 12  5 17  2  4 11\n",
      "  6  7]\n",
      "50\n",
      "100\n",
      "200\n",
      "400\n",
      "800\n",
      "1600\n",
      "3200\n",
      "6400\n",
      "12800\n",
      "25600\n",
      "51200\n",
      "102400\n",
      "204800\n",
      "409600\n",
      "819200\n",
      "1638400\n",
      "3276800\n",
      "6553600\n",
      "13107200\n"
     ]
    }
   ],
   "source": [
    "\n",
    "cantidad_de_archivos = 20\n",
    "tamaño_archivo = 50\n",
    "contenedor = []\n",
    "repeticiones = np.random.randint(0,20, size=tamaño_archivo)\n",
    "repeticion = 1\n",
    "print(repeticiones)\n",
    "for i in range(1,cantidad_de_archivos): #cantidad de archivos\n",
    "    archivo = []\n",
    "    for j in range(0,tamaño_archivo):\n",
    "        currentWord = ''.join(random.choice(string.ascii_letters + string.digits) for _ in range(i))\n",
    "        for k in range(0,repeticion):\n",
    "            archivo.append(currentWord)\n",
    "        repeticion = (repeticion+1) % 20\n",
    "    contenedor.append(archivo)\n",
    "    save_instance(\"conRepetidos\"+F\"-{tamaño_archivo}\", archivo)\n",
    "    print(tamaño_archivo)\n",
    "    tamaño_archivo += tamaño_archivo "
   ]
  },
  {
   "cell_type": "code",
   "execution_count": null,
   "id": "03f4bd93",
   "metadata": {},
   "outputs": [],
   "source": []
  },
  {
   "cell_type": "code",
   "execution_count": null,
   "id": "73245971",
   "metadata": {},
   "outputs": [],
   "source": []
  },
  {
   "cell_type": "code",
   "execution_count": null,
   "id": "95c7e093",
   "metadata": {},
   "outputs": [],
   "source": []
  },
  {
   "cell_type": "code",
   "execution_count": null,
   "id": "36321498",
   "metadata": {},
   "outputs": [],
   "source": []
  }
 ],
 "metadata": {
  "kernelspec": {
   "display_name": "Python 3",
   "language": "python",
   "name": "python3"
  },
  "language_info": {
   "codemirror_mode": {
    "name": "ipython",
    "version": 3
   },
   "file_extension": ".py",
   "mimetype": "text/x-python",
   "name": "python",
   "nbconvert_exporter": "python",
   "pygments_lexer": "ipython3",
   "version": "3.8.8"
  }
 },
 "nbformat": 4,
 "nbformat_minor": 5
}
