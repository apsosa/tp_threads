{
 "cells": [
  {
   "cell_type": "code",
   "execution_count": 1,
   "id": "a717b2cd",
   "metadata": {},
   "outputs": [],
   "source": [
    "import random, math\n",
    "import pandas as pd\n",
    "import numpy as np\n",
    "import string"
   ]
  },
  {
   "cell_type": "code",
   "execution_count": null,
   "id": "0bfdf8a6",
   "metadata": {},
   "outputs": [],
   "source": []
  },
  {
   "cell_type": "code",
   "execution_count": 10,
   "id": "629da30b",
   "metadata": {},
   "outputs": [],
   "source": [
    "!mkdir -p ../data/random-sin-repetidos\n",
    "!mkdir -p ../data/random-con-repetidos\n",
    "!mkdir -p ../data/carga_de_archivos\n",
    "!mkdir -p ../output\n",
    "!mkdir -p ../output/experimento1/con_concurrencia\n",
    "!mkdir -p ../output/experimento1/sin_concurrencia"
   ]
  },
  {
   "cell_type": "markdown",
   "id": "e587a872",
   "metadata": {},
   "source": [
    "# EXPERIMENTO 1"
   ]
  },
  {
   "cell_type": "markdown",
   "id": "7955e692",
   "metadata": {},
   "source": [
    "# Generacion de datos"
   ]
  },
  {
   "cell_type": "markdown",
   "id": "81ed1267",
   "metadata": {},
   "source": [
    "### Los siguientes datasets seran necesarios para el  EXPERIMENTO 1, el cual hablamos en nuestro informe"
   ]
  },
  {
   "cell_type": "markdown",
   "id": "e5b799d7",
   "metadata": {},
   "source": [
    "## Con Repetidos\n",
    "- Este dataset crea un conjunto de archivos de tamaño variable los cuales tienen letras y numeros de manera random los cuales tienen repetidos y se utilizaran en nuestro EXPERIMENTO 1."
   ]
  },
  {
   "cell_type": "code",
   "execution_count": null,
   "id": "af3715b9",
   "metadata": {},
   "outputs": [],
   "source": []
  },
  {
   "cell_type": "code",
   "execution_count": null,
   "id": "c38685c8",
   "metadata": {},
   "outputs": [],
   "source": []
  },
  {
   "cell_type": "markdown",
   "id": "ad01459f",
   "metadata": {},
   "source": []
  },
  {
   "cell_type": "code",
   "execution_count": 3,
   "id": "857d7903",
   "metadata": {},
   "outputs": [],
   "source": [
    "def save_instance(instance_name,instances):\n",
    "    with open(F\"../data/random-con-repetidos/{instance_name}.txt\", \"w\") as f:\n",
    "        for values in instances:\n",
    "            print(values,file=f)     "
   ]
  },
  {
   "cell_type": "code",
   "execution_count": 4,
   "id": "e15b3ddc",
   "metadata": {},
   "outputs": [
    {
     "name": "stdout",
     "output_type": "stream",
     "text": [
      "[13  8  4 18  6  7  5 18  8 14 11  3  1 15 19  9  0 12  7 10  9  7  0 10\n",
      "  8  6  4 11 15 15 13 14  2  9  2 14 11 13 14 12  5 14  6  5  1  0  1 12\n",
      "  6  7]\n",
      "50\n",
      "100\n",
      "200\n",
      "400\n",
      "800\n",
      "1600\n",
      "3200\n",
      "6400\n",
      "12800\n",
      "25600\n",
      "51200\n"
     ]
    }
   ],
   "source": [
    "cantidad_de_archivos = 12\n",
    "tamaño_archivo = 50\n",
    "contenedor = []\n",
    "repeticiones = np.random.randint(0,20, size=tamaño_archivo)\n",
    "repeticion = 1\n",
    "print(repeticiones)\n",
    "for i in range(1,cantidad_de_archivos): #cantidad de archivos\n",
    "    archivo = []\n",
    "    for j in range(0,tamaño_archivo):\n",
    "        currentWord = ''.join(random.choice(string.ascii_letters + string.digits) for _ in range(i))\n",
    "        for k in range(0,repeticion):\n",
    "            archivo.append(currentWord)\n",
    "        repeticion = (repeticion+1) % 20\n",
    "    contenedor.append(archivo)\n",
    "    save_instance(\"conRepetidos\"+F\"-{tamaño_archivo}\", archivo)\n",
    "    print(tamaño_archivo)\n",
    "    tamaño_archivo += tamaño_archivo "
   ]
  },
  {
   "cell_type": "markdown",
   "id": "d7cfa63c",
   "metadata": {},
   "source": [
    "### Luego de ejecutar el siguiente script, verificar la carpeta output en la raiz del proyecto"
   ]
  },
  {
   "cell_type": "code",
   "execution_count": 5,
   "id": "430679dc",
   "metadata": {},
   "outputs": [
    {
     "name": "stdout",
     "output_type": "stream",
     "text": [
      "removed './build/ContarPalabras'\n",
      "g++ -std=c++11 -Wall -c src/HashMapConcurrente.cpp -o build/HashMapConcurrente.o -lpthread\n",
      "g++ -std=c++11 -Wall -c src/CargarArchivos.cpp -o build/CargarArchivos.o -lpthread\n",
      "g++ -std=c++11 -Wall -o build/ContarPalabras src/ContarPalabras.cpp build/HashMapConcurrente.o build/CargarArchivos.o -lpthread\n",
      "rm build/HashMapConcurrente.o build/CargarArchivos.o\n",
      "######################################################################################\n",
      "LA SALIDA DE ESTE EJECUTABLE SE ENCUENTRA EN LA CARPETA OUTPUT EN LA RAIZ DEL PROYECTO\n",
      "######################################################################################\n",
      "######### Calculamos el máximo de manera SECUENCIAL con los datasets creados #########\n",
      "conRepetidos-100.txt\n",
      "conRepetidos-12800.txt\n",
      "conRepetidos-1600.txt\n",
      "conRepetidos-200.txt\n",
      "conRepetidos-25600.txt\n",
      "conRepetidos-3200.txt\n",
      "conRepetidos-400.txt\n",
      "conRepetidos-50.txt\n",
      "conRepetidos-51200.txt\n",
      "conRepetidos-6400.txt\n",
      "conRepetidos-800.txt\n",
      "empty.txt\n",
      "######### Calculamos el máximo de manera PARALELA con los datasets creados #########\n",
      "conRepetidos-100.txt\n",
      "conRepetidos-12800.txt\n",
      "conRepetidos-1600.txt\n",
      "conRepetidos-200.txt\n",
      "conRepetidos-25600.txt\n",
      "conRepetidos-3200.txt\n",
      "conRepetidos-400.txt\n",
      "conRepetidos-50.txt\n",
      "conRepetidos-51200.txt\n",
      "conRepetidos-6400.txt\n",
      "conRepetidos-800.txt\n",
      "empty.txt\n"
     ]
    }
   ],
   "source": [
    "!../scripts/experimento1.sh"
   ]
  },
  {
   "cell_type": "markdown",
   "id": "f883b942",
   "metadata": {},
   "source": [
    "# FIN DEL EXPERIMENTO 1"
   ]
  },
  {
   "cell_type": "code",
   "execution_count": null,
   "id": "017efba1",
   "metadata": {},
   "outputs": [],
   "source": []
  },
  {
   "cell_type": "markdown",
   "id": "a928041a",
   "metadata": {},
   "source": [
    "# EXPERIMENTO 2"
   ]
  },
  {
   "cell_type": "markdown",
   "id": "9b254b0b",
   "metadata": {},
   "source": [
    "## Data set para carga de archivos\n",
    "#### La idea de este dataset es crear muchos archivos pero de un tamaño razonable(no muy grandes)\n",
    "Este mismo creará 150 archivos los cuales los va a usar para levantar concurrentemente y además de ello ejecutará el método máximo. Este método se hara sin concurrencia, nuestro punto es evaluar sólo la concurrencia a la hora de cargar los archivos"
   ]
  },
  {
   "cell_type": "code",
   "execution_count": null,
   "id": "f5122f0c",
   "metadata": {},
   "outputs": [],
   "source": []
  },
  {
   "cell_type": "markdown",
   "id": "256ae150",
   "metadata": {},
   "source": [
    "### Generamos los archivos"
   ]
  },
  {
   "cell_type": "code",
   "execution_count": 11,
   "id": "11e4d7ee",
   "metadata": {},
   "outputs": [],
   "source": [
    "def save_instance(instance_name,instances):\n",
    "    with open(F\"../data/carga_de_archivos/{instance_name}.txt\", \"w\") as f:\n",
    "        for values in instances:\n",
    "            print(values,file=f)     "
   ]
  },
  {
   "cell_type": "code",
   "execution_count": 12,
   "id": "1696c4a4",
   "metadata": {},
   "outputs": [
    {
     "name": "stdout",
     "output_type": "stream",
     "text": [
      "20\n",
      "40\n",
      "60\n",
      "80\n",
      "100\n",
      "120\n",
      "140\n",
      "160\n",
      "180\n",
      "200\n",
      "220\n",
      "240\n",
      "260\n",
      "280\n",
      "300\n",
      "320\n",
      "340\n",
      "360\n",
      "380\n",
      "400\n",
      "420\n",
      "440\n",
      "460\n",
      "480\n",
      "500\n",
      "520\n",
      "540\n",
      "560\n",
      "580\n",
      "600\n",
      "620\n",
      "640\n",
      "660\n",
      "680\n",
      "700\n",
      "720\n",
      "740\n",
      "760\n",
      "780\n",
      "800\n",
      "820\n",
      "840\n",
      "860\n",
      "880\n",
      "900\n",
      "920\n",
      "940\n",
      "960\n",
      "980\n",
      "1000\n",
      "1020\n",
      "1040\n",
      "1060\n",
      "1080\n",
      "1100\n",
      "1120\n",
      "1140\n",
      "1160\n",
      "1180\n",
      "1200\n",
      "1220\n",
      "1240\n",
      "1260\n",
      "1280\n",
      "1300\n",
      "1320\n",
      "1340\n",
      "1360\n",
      "1380\n",
      "1400\n",
      "1420\n",
      "1440\n",
      "1460\n",
      "1480\n",
      "1500\n",
      "1520\n",
      "1540\n",
      "1560\n",
      "1580\n",
      "1600\n",
      "1620\n",
      "1640\n",
      "1660\n",
      "1680\n",
      "1700\n",
      "1720\n",
      "1740\n",
      "1760\n",
      "1780\n",
      "1800\n",
      "1820\n",
      "1840\n",
      "1860\n",
      "1880\n",
      "1900\n",
      "1920\n",
      "1940\n",
      "1960\n",
      "1980\n",
      "2000\n",
      "2020\n",
      "2040\n",
      "2060\n",
      "2080\n",
      "2100\n",
      "2120\n",
      "2140\n",
      "2160\n",
      "2180\n",
      "2200\n",
      "2220\n",
      "2240\n",
      "2260\n",
      "2280\n",
      "2300\n",
      "2320\n",
      "2340\n",
      "2360\n",
      "2380\n",
      "2400\n",
      "2420\n",
      "2440\n",
      "2460\n",
      "2480\n",
      "2500\n",
      "2520\n",
      "2540\n",
      "2560\n",
      "2580\n",
      "2600\n",
      "2620\n",
      "2640\n",
      "2660\n",
      "2680\n",
      "2700\n",
      "2720\n",
      "2740\n",
      "2760\n",
      "2780\n",
      "2800\n",
      "2820\n",
      "2840\n",
      "2860\n",
      "2880\n",
      "2900\n",
      "2920\n",
      "2940\n",
      "2960\n",
      "2980\n"
     ]
    }
   ],
   "source": [
    "cantidad_de_archivos = 150\n",
    "tamaño_archivo = 20\n",
    "incremento = tamaño_archivo\n",
    "contenedor = []\n",
    "for i in range(1,cantidad_de_archivos): #cantidad de archivos\n",
    "    archivo = []\n",
    "    for j in range(0,tamaño_archivo):\n",
    "        currentWord = ''.join(random.choice(string.ascii_letters + string.digits) for _ in range(5))\n",
    "        for k in range(0,repeticion):\n",
    "            archivo.append(currentWord)\n",
    "        repeticion = (repeticion+1) % 20\n",
    "    contenedor.append(archivo)\n",
    "    save_instance(\"lectura\"+F\"-{tamaño_archivo}\", archivo)\n",
    "    print(tamaño_archivo)\n",
    "    tamaño_archivo += incremento \n",
    "#print(contenedor)"
   ]
  },
  {
   "cell_type": "code",
   "execution_count": null,
   "id": "1808ff9b",
   "metadata": {},
   "outputs": [],
   "source": []
  },
  {
   "cell_type": "markdown",
   "id": "6f88ee14",
   "metadata": {},
   "source": [
    "## El siguiente experimento llevará un tiempo considerable en la ejecución. En nuestro caso de 30 minutos a 1 hora en algunos casos."
   ]
  },
  {
   "cell_type": "markdown",
   "id": "19b221cc",
   "metadata": {},
   "source": [
    "### Ejecución del experimento 2"
   ]
  },
  {
   "cell_type": "code",
   "execution_count": null,
   "id": "b980a863",
   "metadata": {},
   "outputs": [
    {
     "name": "stdout",
     "output_type": "stream",
     "text": [
      "removed './build/ContarPalabras'\n",
      "g++ -std=c++11 -Wall -c src/HashMapConcurrente.cpp -o build/HashMapConcurrente.o -lpthread\n",
      "g++ -std=c++11 -Wall -c src/CargarArchivos.cpp -o build/CargarArchivos.o -lpthread\n",
      "g++ -std=c++11 -Wall -o build/ContarPalabras src/ContarPalabras.cpp build/HashMapConcurrente.o build/CargarArchivos.o -lpthread\n",
      "rm build/HashMapConcurrente.o build/CargarArchivos.o\n",
      "1 threads cargando archivos\n",
      "2 threads cargando archivos\n",
      "3 threads cargando archivos\n",
      "4 threads cargando archivos\n",
      "5 threads cargando archivos\n",
      "6 threads cargando archivos\n",
      "7 threads cargando archivos\n",
      "8 threads cargando archivos\n",
      "9 threads cargando archivos\n",
      "10 threads cargando archivos\n",
      "11 threads cargando archivos\n",
      "12 threads cargando archivos\n",
      "13 threads cargando archivos\n",
      "14 threads cargando archivos\n",
      "15 threads cargando archivos\n",
      "16 threads cargando archivos\n",
      "17 threads cargando archivos\n",
      "18 threads cargando archivos\n",
      "19 threads cargando archivos\n",
      "20 threads cargando archivos\n",
      "21 threads cargando archivos\n",
      "22 threads cargando archivos\n",
      "23 threads cargando archivos\n",
      "24 threads cargando archivos\n",
      "25 threads cargando archivos\n",
      "26 threads cargando archivos\n",
      "27 threads cargando archivos\n",
      "28 threads cargando archivos\n",
      "29 threads cargando archivos\n",
      "30 threads cargando archivos\n",
      "31 threads cargando archivos\n",
      "32 threads cargando archivos\n",
      "33 threads cargando archivos\n",
      "34 threads cargando archivos\n",
      "35 threads cargando archivos\n",
      "36 threads cargando archivos\n",
      "37 threads cargando archivos\n",
      "38 threads cargando archivos\n",
      "39 threads cargando archivos\n",
      "40 threads cargando archivos\n",
      "41 threads cargando archivos\n",
      "42 threads cargando archivos\n",
      "43 threads cargando archivos\n",
      "44 threads cargando archivos\n",
      "45 threads cargando archivos\n",
      "46 threads cargando archivos\n",
      "47 threads cargando archivos\n",
      "48 threads cargando archivos\n",
      "49 threads cargando archivos\n",
      "50 threads cargando archivos\n",
      "51 threads cargando archivos\n",
      "52 threads cargando archivos\n",
      "53 threads cargando archivos\n",
      "54 threads cargando archivos\n",
      "55 threads cargando archivos\n",
      "56 threads cargando archivos\n",
      "57 threads cargando archivos\n",
      "58 threads cargando archivos\n",
      "59 threads cargando archivos\n",
      "60 threads cargando archivos\n",
      "61 threads cargando archivos\n",
      "62 threads cargando archivos\n",
      "63 threads cargando archivos\n",
      "64 threads cargando archivos\n",
      "65 threads cargando archivos\n",
      "66 threads cargando archivos\n",
      "67 threads cargando archivos\n",
      "68 threads cargando archivos\n",
      "69 threads cargando archivos\n",
      "70 threads cargando archivos\n",
      "71 threads cargando archivos\n",
      "72 threads cargando archivos\n",
      "73 threads cargando archivos\n",
      "74 threads cargando archivos\n",
      "75 threads cargando archivos\n",
      "76 threads cargando archivos\n",
      "77 threads cargando archivos\n",
      "78 threads cargando archivos\n",
      "79 threads cargando archivos\n",
      "80 threads cargando archivos\n",
      "81 threads cargando archivos\n",
      "82 threads cargando archivos\n",
      "83 threads cargando archivos\n",
      "84 threads cargando archivos\n",
      "85 threads cargando archivos\n",
      "86 threads cargando archivos\n",
      "87 threads cargando archivos\n",
      "88 threads cargando archivos\n",
      "89 threads cargando archivos\n",
      "90 threads cargando archivos\n",
      "91 threads cargando archivos\n",
      "92 threads cargando archivos\n",
      "93 threads cargando archivos\n",
      "94 threads cargando archivos\n",
      "95 threads cargando archivos\n",
      "96 threads cargando archivos\n",
      "97 threads cargando archivos\n",
      "98 threads cargando archivos\n",
      "99 threads cargando archivos\n",
      "100 threads cargando archivos\n",
      "101 threads cargando archivos\n",
      "102 threads cargando archivos\n",
      "103 threads cargando archivos\n"
     ]
    }
   ],
   "source": [
    "!../scripts/experimento2.sh"
   ]
  },
  {
   "cell_type": "code",
   "execution_count": null,
   "id": "9e2c30ce",
   "metadata": {},
   "outputs": [],
   "source": []
  },
  {
   "cell_type": "code",
   "execution_count": null,
   "id": "03f4bd93",
   "metadata": {},
   "outputs": [],
   "source": []
  },
  {
   "cell_type": "code",
   "execution_count": null,
   "id": "73245971",
   "metadata": {},
   "outputs": [],
   "source": []
  },
  {
   "cell_type": "code",
   "execution_count": null,
   "id": "95c7e093",
   "metadata": {},
   "outputs": [],
   "source": []
  },
  {
   "cell_type": "code",
   "execution_count": null,
   "id": "36321498",
   "metadata": {},
   "outputs": [],
   "source": []
  }
 ],
 "metadata": {
  "kernelspec": {
   "display_name": "Python 3 (ipykernel)",
   "language": "python",
   "name": "python3"
  },
  "language_info": {
   "codemirror_mode": {
    "name": "ipython",
    "version": 3
   },
   "file_extension": ".py",
   "mimetype": "text/x-python",
   "name": "python",
   "nbconvert_exporter": "python",
   "pygments_lexer": "ipython3",
   "version": "3.9.2"
  }
 },
 "nbformat": 4,
 "nbformat_minor": 5
}
