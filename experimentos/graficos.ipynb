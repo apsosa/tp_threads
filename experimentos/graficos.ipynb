{
 "cells": [
  {
   "cell_type": "code",
   "execution_count": 1,
   "id": "8b2bbeb3",
   "metadata": {},
   "outputs": [],
   "source": [
    "import numpy as np\n",
    "import pandas as pd\n",
    "import seaborn as sns\n",
    "import matplotlib.pyplot as plt\n",
    "from matplotlib.pyplot import figure\n"
   ]
  },
  {
   "cell_type": "markdown",
   "id": "40eb339e",
   "metadata": {},
   "source": [
    "# Experimentos\n",
    "Leemos el dataframe con todos los resultados."
   ]
  },
  {
   "cell_type": "code",
   "execution_count": 13,
   "id": "3d5c918b",
   "metadata": {},
   "outputs": [
    {
     "name": "stdout",
     "output_type": "stream",
     "text": [
      "    iteracion  threads    tiempo   output\n",
      "0           1        1   6.12898  volvia4\n",
      "1           2        2   5.85250  volvia4\n",
      "2           3        3   5.91369  volvia4\n",
      "3           4        4   6.92512  volvia4\n",
      "4           5        5   6.28296  volvia4\n",
      "5           6        6   5.96373  volvia4\n",
      "6           7        7   5.93142  volvia4\n",
      "7           8        8   5.84861  volvia4\n",
      "8           9        9   6.00325  volvia4\n",
      "9          10       10   5.97033  volvia4\n",
      "10         11       11   5.91719  volvia4\n",
      "11         12       12   5.87956  volvia4\n",
      "12         13       13   6.00903  volvia4\n",
      "13         14       14   6.02514  volvia4\n",
      "14         15       15   6.04601  volvia4\n",
      "15         16       16   6.06302  volvia4\n",
      "16         17       17   6.00951  volvia4\n",
      "17         18       18  11.60560  volvia4\n",
      "18         19       19   7.17840  volvia4\n",
      "19         20       20   5.99843  volvia4\n",
      "20         21       21   6.06667  volvia4\n",
      "21         22       22   6.07753  volvia4\n",
      "22         23       23   6.04698  volvia4\n",
      "23         24       24  13.97320  volvia4\n",
      "24         25       25   6.55312  volvia4\n",
      "25         26       26   6.31309  volvia4\n"
     ]
    }
   ],
   "source": [
    "df_threads_comparaciones = pd.read_csv(\"../output/salida.csv\");\n",
    "df_threads_comparaciones = pd.read_csv(\"../output/salida.csv\");\n",
    "df_threads_comparaciones = pd.read_csv(\"../output/salida.csv\");\n",
    "df_threads_comparaciones = pd.read_csv(\"../output/salida.csv\");\n",
    "df_threads_comparaciones = pd.read_csv(\"../output/salida.csv\");\n",
    "print(df_threads_comparaciones)"
   ]
  },
  {
   "cell_type": "markdown",
   "id": "64864747",
   "metadata": {},
   "source": [
    "# Experimento 1: Análisis variación de cantidad de threads"
   ]
  },
  {
   "cell_type": "code",
   "execution_count": 14,
   "id": "20faf168",
   "metadata": {},
   "outputs": [
    {
     "data": {
      "image/png": "[encoded data removed]",
      "text/plain": [
       "<Figure size 432x288 with 1 Axes>"
      ]
     },
     "metadata": {
      "needs_background": "light"
     },
     "output_type": "display_data"
    }
   ],
   "source": [
    "df_fijo = df_threads_comparaciones.copy();\n",
    "sns.scatterplot(data=df_fijo, x=\"threads\", y=\"tiempo\")\n",
    "plt.show()"
   ]
  },
  {
   "cell_type": "code",
   "execution_count": 10,
   "id": "91eaae17",
   "metadata": {},
   "outputs": [
    {
     "data": {
      "image/png": "[encoded data removed]",
      "text/plain": [
       "<Figure size 360x360 with 1 Axes>"
      ]
     },
     "metadata": {
      "needs_background": "light"
     },
     "output_type": "display_data"
    }
   ],
   "source": [
    "sns.relplot(data=df_fijo,x=\"threads\", y=\"tiempo\", kind=\"line\")\n",
    "plt.show()"
   ]
  },
  {
   "cell_type": "markdown",
   "id": "2c6c52a3",
   "metadata": {},
   "source": [
    "# Experimento 2: Análisis variacion del tamaño de entrada"
   ]
  },
  {
   "cell_type": "code",
   "execution_count": null,
   "id": "d8835a5d",
   "metadata": {},
   "outputs": [],
   "source": []
  }
 ],
 "metadata": {
  "kernelspec": {
   "display_name": "Python 3",
   "language": "python",
   "name": "python3"
  },
  "language_info": {
   "codemirror_mode": {
    "name": "ipython",
    "version": 3
   },
   "file_extension": ".py",
   "mimetype": "text/x-python",
   "name": "python",
   "nbconvert_exporter": "python",
   "pygments_lexer": "ipython3",
   "version": "3.8.8"
  }
 },
 "nbformat": 4,
 "nbformat_minor": 5
}
